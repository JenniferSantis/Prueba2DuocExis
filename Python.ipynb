{
  "cells": [
    {
      "cell_type": "markdown",
      "metadata": {
        "id": "view-in-github",
        "colab_type": "text"
      },
      "source": [
        "<a href=\"https://colab.research.google.com/github/JenniferSantis/Prueba2DuocExis/blob/main/Python.ipynb\" target=\"_parent\"><img src=\"https://colab.research.google.com/assets/colab-badge.svg\" alt=\"Open In Colab\"/></a>"
      ]
    },
    {
      "cell_type": "code",
      "execution_count": null,
      "metadata": {
        "id": "4OjUJ2vl0xZo"
      },
      "outputs": [],
      "source": [
        "\n",
        "cont= 0;\n",
        "num1 = int (input(\"ingrese primer numero;\"))\n",
        "if num1 >0:\n",
        "  cont= cont+1\n",
        "num2 = int (input(\"ingrese segundo numero;\"))\n",
        "if num2 >0:\n",
        "  cont= cont+1\n",
        "  num2 = int (input(\"ingrese primer numero;\"))\n",
        "elif num3 >0:\n",
        "  cont= cont+1\n",
        "  num3 = int (input(\"ingrese primer numero;\"))"
      ]
    },
    {
      "cell_type": "code",
      "source": [],
      "metadata": {
        "id": "MDA3BeXExFW-"
      },
      "execution_count": null,
      "outputs": []
    },
    {
      "cell_type": "code",
      "execution_count": null,
      "metadata": {
        "colab": {
          "base_uri": "https://localhost:8080/"
        },
        "id": "wx_rQPnY_Tjy",
        "outputId": "92157419-8a84-416a-d71e-fcc73a1648c8"
      },
      "outputs": [
        {
          "name": "stdout",
          "output_type": "stream",
          "text": [
            "Ingrese un número positivo: 2\n",
            "El resultado es: 2*1 = 2\n",
            "El resultado es: 2*2 = 4\n",
            "El resultado es: 2*3 = 6\n",
            "El resultado es: 2*4 = 8\n",
            "El resultado es: 2*5 = 10\n",
            "El resultado es: 2*6 = 12\n",
            "El resultado es: 2*7 = 14\n",
            "El resultado es: 2*8 = 16\n",
            "El resultado es: 2*9 = 18\n",
            "El resultado es: 2*10 = 20\n"
          ]
        }
      ],
      "source": [
        "num1 = int(input(\"Ingrese un número positivo: \"))\n",
        "if num1<0:\n",
        "  print (\"número no valido debe ser positivo\")\n",
        "else:\n",
        "  R1= num1*1\n",
        "  R2= num1*2\n",
        "  R3= num1*3\n",
        "  R4= num1*4\n",
        "  R5= num1*5\n",
        "  R6= num1*6\n",
        "  R7= num1*7\n",
        "  R8= num1*8\n",
        "  R9= num1*9\n",
        "  R10= num1*10\n",
        "  print (f\"El resultado es: {num1}*1 = {R1}\")\n",
        "  print (f\"El resultado es: {num1}*2 = {R2}\")\n",
        "  print (f\"El resultado es: {num1}*3 = {R3}\")\n",
        "  print (f\"El resultado es: {num1}*4 = {R4}\")\n",
        "  print (f\"El resultado es: {num1}*5 = {R5}\")\n",
        "  print (f\"El resultado es: {num1}*6 = {R6}\")\n",
        "  print (f\"El resultado es: {num1}*7 = {R7}\")\n",
        "  print (f\"El resultado es: {num1}*8 = {R8}\")\n",
        "  print (f\"El resultado es: {num1}*9 = {R9}\")\n",
        "  print (f\"El resultado es: {num1}*10 = {R10}\")\n"
      ]
    },
    {
      "cell_type": "code",
      "execution_count": null,
      "metadata": {
        "colab": {
          "base_uri": "https://localhost:8080/"
        },
        "id": "wm-a_ApznRq2",
        "outputId": "5878b245-05e8-436a-dc08-5d582d87d950"
      },
      "outputs": [
        {
          "name": "stdout",
          "output_type": "stream",
          "text": [
            "1\n",
            "2\n",
            "3\n",
            "4\n"
          ]
        }
      ],
      "source": [
        "a=1\n",
        "while a < 5:\n",
        "  print (a)\n",
        "  a = a + 1"
      ]
    },
    {
      "cell_type": "code",
      "execution_count": null,
      "metadata": {
        "colab": {
          "base_uri": "https://localhost:8080/"
        },
        "id": "pvV2PVk60him",
        "outputId": "03c573a6-a418-4783-805b-a36c76e6682a"
      },
      "outputs": [
        {
          "name": "stdout",
          "output_type": "stream",
          "text": [
            "Ingrese un Número:4\n",
            "El factorial de 4 es: 1\n",
            "El factorial de 4 es: 2\n",
            "El factorial de 4 es: 6\n",
            "El factorial de 4 es: 24\n"
          ]
        }
      ],
      "source": [
        "fact = 1\n",
        "i = 1\n",
        "num = int (input (\"Ingrese un Número:\"))\n",
        "while i <= num:\n",
        "  fact = fact * i\n",
        "  i = i + 1\n",
        "  print (f\"El factorial de {num} es: {fact}\")"
      ]
    },
    {
      "cell_type": "code",
      "execution_count": null,
      "metadata": {
        "colab": {
          "base_uri": "https://localhost:8080/"
        },
        "id": "iakFr7Cw2rYX",
        "outputId": "f42abf8d-356c-4bbd-b701-8264e5cccb8b"
      },
      "outputs": [
        {
          "name": "stdout",
          "output_type": "stream",
          "text": [
            "Ingrese número:5\n",
            "La suma de los numeros ingresados es:5\n",
            "Ingrese número:5\n",
            "La suma de los numeros ingresados es:10\n",
            "Ingrese número:5\n",
            "La suma de los numeros ingresados es:15\n",
            "Ingrese número:5\n",
            "La suma de los numeros ingresados es:20\n",
            "Ingrese número:5\n",
            "La suma de los numeros ingresados es:25\n"
          ]
        }
      ],
      "source": [
        "i = 1\n",
        "sum = 0\n",
        "while i <= 5:\n",
        "  num = int (input(\"Ingrese número:\" ) )\n",
        "  i = i+1\n",
        "  sum = sum+num\n",
        "  print (f\"La suma de los numeros ingresados es:{sum}\")\n",
        "\n"
      ]
    },
    {
      "cell_type": "code",
      "execution_count": null,
      "metadata": {
        "id": "6F9xwgIG81ZN"
      },
      "outputs": [],
      "source": [
        "num = int (Input(\"Ingrese el numero a evaluar:\"))\n",
        "while num<987 and num>103:\n",
        "  print (\"el numero es: \", num)\n",
        "  resto==num%10\n",
        "  suma==num%10\n",
        ""
      ]
    },
    {
      "cell_type": "code",
      "execution_count": null,
      "metadata": {
        "colab": {
          "base_uri": "https://localhost:8080/"
        },
        "id": "OM4rWyZ6H1lf",
        "outputId": "5cef10ed-bc37-4120-c16c-ccd3e90046bd"
      },
      "outputs": [
        {
          "name": "stdout",
          "output_type": "stream",
          "text": [
            "No se ha podido realizar la division\n"
          ]
        }
      ],
      "source": [
        "a= 5\n",
        "b= 0\n",
        "try:\n",
        "  c = a/b\n",
        "  print (f\"El resultado es: {c}\")\n",
        "except ZeroDivisionError:\n",
        "  print (\"No se ha podido realizar la division\")"
      ]
    },
    {
      "cell_type": "code",
      "execution_count": null,
      "metadata": {
        "colab": {
          "base_uri": "https://localhost:8080/"
        },
        "id": "GjMiUrqPNJ5q",
        "outputId": "324441b9-a626-4efa-a633-99e85045e50a"
      },
      "outputs": [
        {
          "name": "stdout",
          "output_type": "stream",
          "text": [
            "Hola Mundo\n",
            "El weta El weta El weta El weta \n"
          ]
        }
      ],
      "source": [
        "print(\"Hola Mundo\")\n",
        "print(\"El weta \" *4)"
      ]
    },
    {
      "cell_type": "code",
      "execution_count": null,
      "metadata": {
        "colab": {
          "base_uri": "https://localhost:8080/"
        },
        "id": "MyfetklT_Jzv",
        "outputId": "798f1ef7-0c47-4f27-81a0-de366bb5d2a9"
      },
      "outputs": [
        {
          "name": "stdout",
          "output_type": "stream",
          "text": [
            "b y a son iguales\n"
          ]
        }
      ],
      "source": [
        "a = 5\n",
        "b = 5\n",
        "if a>b:\n",
        "  print(\"a es mayor que b\")\n",
        "elif b>a:\n",
        "  print(\"b es mayor que a\")\n",
        "else:\n",
        "    print(\"b y a son iguales\")"
      ]
    },
    {
      "cell_type": "code",
      "execution_count": null,
      "metadata": {
        "colab": {
          "base_uri": "https://localhost:8080/"
        },
        "id": "8_fqnw2nDSO1",
        "outputId": "7105c9b8-dcf2-4fac-9ccb-ffba5ca3196b"
      },
      "outputs": [
        {
          "name": "stdout",
          "output_type": "stream",
          "text": [
            "Counter({'gato': 3, 'perro': 2, 'raton': 2, 'escoba': 1})\n"
          ]
        }
      ],
      "source": [
        "from collections import Counter\n",
        "mi_lista = ['perro', 'gato', 'raton', 'escoba', 'perro', 'gato', 'raton', 'gato']\n",
        "contador = Counter(mi_lista)\n",
        "print(contador)"
      ]
    },
    {
      "cell_type": "code",
      "execution_count": null,
      "metadata": {
        "colab": {
          "base_uri": "https://localhost:8080/"
        },
        "id": "fr-Fz9fEFYPS",
        "outputId": "25d5dc55-e6fe-4739-cc44-5306bd7dc9f7"
      },
      "outputs": [
        {
          "name": "stdout",
          "output_type": "stream",
          "text": [
            "Ingrese su edad: 13\n",
            "Eres menor de edad \n",
            " Así es que no puedes pasar\n"
          ]
        }
      ],
      "source": [
        "\n",
        "ingresa_edad = int(input(\"Ingrese su edad: \"))\n",
        "\n",
        "if ingresa_edad >18:\n",
        "  print(\"Eres mayor de edad \\n puedes ingresar \")\n",
        "else:\n",
        "  print(\"Eres menor de edad \\n Así es que no puedes pasar\")"
      ]
    },
    {
      "cell_type": "code",
      "execution_count": null,
      "metadata": {
        "colab": {
          "base_uri": "https://localhost:8080/"
        },
        "id": "yfhXO_u5fGBT",
        "outputId": "026e6c35-d43b-4c38-c484-7abeea8c47cd"
      },
      "outputs": [
        {
          "name": "stdout",
          "output_type": "stream",
          "text": [
            "numero par\n"
          ]
        }
      ],
      "source": [
        "num = 4\n",
        "if num % 2 ==0:\n",
        "  print(\"numero par\")\n",
        "else:\n",
        "  print(\"numero impar\")"
      ]
    },
    {
      "cell_type": "code",
      "execution_count": null,
      "metadata": {
        "colab": {
          "base_uri": "https://localhost:8080/"
        },
        "id": "pLGpphk9WSKb",
        "outputId": "80735393-1dad-4efa-d2fb-0e2398e5aa51"
      },
      "outputs": [
        {
          "name": "stdout",
          "output_type": "stream",
          "text": [
            "CADA DIA T\n",
            "CADA DIA E\n",
            "CADA DIA A\n",
            "CADA DIA M\n",
            "CADA DIA O\n"
          ]
        }
      ],
      "source": [
        "mis_vida = [\"T\",\"E\",\"A\",\"M\",\"O\"]\n",
        "for i in mis_vida:\n",
        "  print(\"CADA DIA\", i)\n"
      ]
    },
    {
      "cell_type": "code",
      "execution_count": null,
      "metadata": {
        "id": "morWQug-zzy3"
      },
      "outputs": [],
      "source": [
        "'\\033[cod_formato;cod_color_texto;cod_color_fondon'\n",
        "print(\"\\003[4;31m\"+\"hola mundo en negrita y subrayando de color morado\")"
      ]
    },
    {
      "cell_type": "code",
      "execution_count": null,
      "metadata": {
        "colab": {
          "background_save": true
        },
        "id": "UfIi7nYu39hH"
      },
      "outputs": [],
      "source": [
        "\n",
        "print(\"\\003[1;37m\"+\"\\t +++MENU+++RAPID+++PIZZA++++\"+\"\\033[\\n\")\n",
        "\n",
        "print(\"\\t Tipo Pizza \\t Precio\")\n",
        "\n",
        "print(\"\\t 1- Tradicional $12.000\")\n",
        "\n",
        "print(\"\\t 2- Peperoni \\t $14.000\")\n",
        "\n",
        "print(\"\\t 3- All Carnes \\t $17.000 \")\n",
        "\n",
        "print(\"\\t 4- Anular venta\")\n",
        "\n",
        "print(\"\\t 5- Finalizar venta\")\n",
        "menu1=12000\n",
        "menu2=14000\n",
        "menu3=17000\n",
        "cant=0\n",
        "sw=1\n",
        "while sw==1:\n",
        "  print(\"1. Seleccione el Menú 1\")\n",
        "  print(\"2. Seleccione el Menú 2\")\n",
        "  print(\"3. Seleccione el Menú 3\")\n",
        "  try:\n",
        "    op=int(input(\"Desea el menú 1: \"))\n",
        "    if (op>0 and op<4):\n",
        "        if op==1:\n",
        "           print(\"Ha seleccionado el menú 1\" \\t Cuantas pizzas quiere?\")\n",
        "           cantidad=0\n",
        "           cantidad=cantidad*menu1\n",
        "           continu=int(input(\"tiene descuento? 1.Si 2.No \" ))\n",
        "           if continu==1:\n",
        "             print(\"Que Descuento tiene? 1.DescuentoV 2.DescuentoD\")\n",
        "           elif continu==2:\n",
        "              print(\"Cuantas pizzas quiere?\")\n",
        "\n",
        "\n",
        "             sw=0\n",
        "        if op==2:\n",
        "           print(\"Ha seleccionado el menú 2\")\n",
        "           continu=int(input(\"Desea salir? 1.SI 2.NO  \"))\n",
        "           if continu==1:\n",
        "             print(\"chao pescao\")\n",
        "             sw=0\n",
        "        if op==3:\n",
        "           print(\"Usted desea salir del Menu\")\n",
        "           sw=0\n",
        "  except:\n",
        "      print(\"Ingreso erroneo\")\n",
        "\n"
      ]
    },
    {
      "cell_type": "code",
      "execution_count": null,
      "metadata": {
        "id": "uW659zT0Sijd"
      },
      "outputs": [],
      "source": [
        "from prompt_toolkit.styles import default_ui_style\n",
        "print(\"\\003[1;37m\"+\"\\t +++MENU+++RAPID+++PIZZA++++\"+\"\\033[\\n\")\n",
        "\n",
        "print(\"\\t Tipo Pizza \\t Precio\")\n",
        "\n",
        "print(\"\\t 1- Tradicional $12.000\")\n",
        "\n",
        "print(\"\\t 2- Peperoni \\t $14.000\")\n",
        "\n",
        "print(\"\\t 3- All Carnes \\t $17.000 \")\n",
        "\n",
        "print(\"\\t 4- Anular venta\")\n",
        "\n",
        "print(\"\\t 5- Finalizar venta\")\n",
        "menu1=12000\n",
        "menu2=14000\n",
        "menu3=17000\n",
        "cant=0\n",
        "sw=1\n",
        "while sw==1:\n",
        "  print(\"1. Seleccione el Menú 1\")\n",
        "  print(\"2. Seleccione el Menú 2\")\n",
        "  print(\"3. Seleccione el Menú 3\")\n",
        "  try:\n",
        "    op=int(input(\"Desea el menú 1: \"))\n",
        "    if (op>0 and op<4):\n",
        "        if op==1:\n",
        "           cantidad=0\n",
        "           cantidad=cantidad*menu1\n",
        "           print(\"Ha seleccionado el menú 1 \\t Cuantas pizzas quiere?\" {cantidad})\n",
        "           continu=int(input(\"tiene descuento? 1.Si 2.No \" ))\n",
        "           if continu==1:\n",
        "             print(\"Que Descuento tiene? 1.DescuentoV 2.DescuentoD\")\n",
        "             if continu==1:\n",
        "              descuento=\n",
        "              print(\"Debe cancelar: \" {cantidad})\n",
        "           elif continu==2:\n",
        "              print(\"Cuantas pizzas quiere?\")\n",
        "\n",
        "\n",
        "             sw=0\n",
        "        if op==2:\n",
        "           print(\"Ha seleccionado el menú 2\")\n",
        "           continu=int(input(\"Desea salir? 1.SI 2.NO  \"))\n",
        "           if continu==1:\n",
        "             print(\"chao pescao\")\n",
        "             sw=0\n",
        "        if op==3:\n",
        "           print(\"Usted desea salir del Menu\")\n",
        "           sw=0\n",
        "\n"
      ]
    },
    {
      "cell_type": "code",
      "source": [],
      "metadata": {
        "id": "rpR0aGd5ZKFU"
      },
      "execution_count": null,
      "outputs": []
    },
    {
      "cell_type": "code",
      "execution_count": null,
      "metadata": {
        "id": "bh0Du-QazkP-"
      },
      "outputs": [],
      "source": []
    },
    {
      "cell_type": "code",
      "source": [],
      "metadata": {
        "id": "dqkSbU23SnyH"
      },
      "execution_count": null,
      "outputs": []
    },
    {
      "cell_type": "code",
      "source": [],
      "metadata": {
        "id": "UNaZcYTmTN4K"
      },
      "execution_count": null,
      "outputs": []
    },
    {
      "cell_type": "code",
      "source": [],
      "metadata": {
        "id": "x_PHVJ1lUKHl"
      },
      "execution_count": null,
      "outputs": []
    },
    {
      "cell_type": "code",
      "source": [],
      "metadata": {
        "id": "gGkryPyYUcvL"
      },
      "execution_count": null,
      "outputs": []
    },
    {
      "cell_type": "code",
      "source": [],
      "metadata": {
        "id": "BQx8RF7qU03Z"
      },
      "execution_count": null,
      "outputs": []
    },
    {
      "cell_type": "code",
      "source": [],
      "metadata": {
        "id": "MMkLbccTVIpe"
      },
      "execution_count": null,
      "outputs": []
    },
    {
      "cell_type": "code",
      "source": [],
      "metadata": {
        "id": "gaSZaZYGVfwr"
      },
      "execution_count": null,
      "outputs": []
    },
    {
      "cell_type": "code",
      "source": [],
      "metadata": {
        "id": "Wfizl0mtVp3a"
      },
      "execution_count": null,
      "outputs": []
    },
    {
      "cell_type": "code",
      "source": [],
      "metadata": {
        "id": "1b7WSqCiWD6q"
      },
      "execution_count": null,
      "outputs": []
    }
  ],
  "metadata": {
    "colab": {
      "provenance": [],
      "authorship_tag": "ABX9TyPm8gWlfcZ2Pp0Psszq4oUe",
      "include_colab_link": true
    },
    "kernelspec": {
      "display_name": "Python 3",
      "name": "python3"
    },
    "language_info": {
      "name": "python"
    }
  },
  "nbformat": 4,
  "nbformat_minor": 0
}